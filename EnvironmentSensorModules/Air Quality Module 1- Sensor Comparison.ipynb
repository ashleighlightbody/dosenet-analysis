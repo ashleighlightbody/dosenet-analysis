{
 "cells": [
  {
   "cell_type": "markdown",
   "metadata": {},
   "source": [
    "#### Air Quality Module\n",
    "Author: Jennifer Atkins\n",
    "\n",
    "This is an example of plotting air quality data from two different csv files and the correlation between them."
   ]
  },
  {
   "cell_type": "code",
   "execution_count": 1,
   "metadata": {
    "collapsed": true
   },
   "outputs": [],
   "source": [
    "# Plotting related python libraries\n",
    "import matplotlib.pyplot as plt\n",
    "\n",
    "# Standard csv python library\n",
    "import csv\n",
    "\n",
    "# Main python library for mathematical calculations\n",
    "import numpy as np\n",
    "\n",
    "# Python libraries for manipulating dates and times as objects\n",
    "import time\n",
    "import datetime\n",
    "import dateutil"
   ]
  },
  {
   "cell_type": "code",
   "execution_count": null,
   "metadata": {
    "collapsed": true
   },
   "outputs": [],
   "source": [
    "def correlation_coefficient(xdata,ydata):\n",
    "    #Calculates the correlation coefficient between the two data files\n",
    "    # 'x' and 'y' data respresent the two data sets being compared\n",
    "\txmean = np.mean(xdata) #Calculating the average in each data set\n",
    "\tymean = np.mean(ydata)\n",
    "\txsigma = np.sqrt(np.var(xdata)) #Calculating the standard deviation in each data\n",
    "\tysigma = np.sqrt(np.var(ydata))\n",
    "\txysums = 0 \n",
    "\tfor i in range(len(xdata)): #Calcuating the sum of x and y data\n",
    "\t\txdiff = xdata[i] - xmean\n",
    "\t\tydiff = ydata[i] - ymean\n",
    "\t\txysums = xdiff * ydiff +xysums\n",
    "\tstnddevs = xsigma * ysigma\n",
    "\tcoeff = xysums/stnddevs/len(xdata)\n",
    "\treturn coeff"
   ]
  },
  {
   "cell_type": "code",
   "execution_count": null,
   "metadata": {
    "scrolled": true
   },
   "outputs": [],
   "source": [
    "#Opens csv files chosen by the user\n",
    "user_file1 = input(\"File Name 1: \")\n",
    "resultsa = csv.reader(open(user_file1), delimiter=',')\n",
    "\n",
    "user_file2 = input(\"File Name 2: \")\n",
    "resultsb = csv.reader(open(user_file2), delimiter=',')"
   ]
  },
  {
   "cell_type": "code",
   "execution_count": null,
   "metadata": {},
   "outputs": [],
   "source": [
    "timesa = []\n",
    "timesb = []\n",
    "Val25a = []\n",
    "Val25b = []\n",
    "\n",
    "row_countera= 0\n",
    "for r in resultsa:\n",
    "    #Skip first row (Row that specifies fields)\n",
    "    row_countera += 1\n",
    "    if row_countera>1:\n",
    "        #Append each column in CSV to a separate list\n",
    "        timesa.append(dateutil.parser.parse(r[0]))\n",
    "        Val25a.append(int(r[8]))\n",
    "\n",
    "row_counterb= 0\n",
    "for r in resultsb:\n",
    "    row_counterb += 1\n",
    "    if row_counterb>1:\n",
    "        timesb.append(dateutil.parser.parse(r[0]))\n",
    "        Val25b.append(int(r[8]))"
   ]
  },
  {
   "cell_type": "code",
   "execution_count": null,
   "metadata": {
    "collapsed": true
   },
   "outputs": [],
   "source": [
    "#Choose the number of data points to combine and average\n",
    "n_merge = int(input(\"n data points to combine:\"))\n",
    "ndata_a = len(Val25a)\n",
    "ndata_b = len(Val25b)\n",
    "nsum_data_a= int(ndata_a/n_merge)\n",
    "nsum_data_b= int(ndata_b/n_merge)"
   ]
  },
  {
   "cell_type": "code",
   "execution_count": null,
   "metadata": {
    "collapsed": true
   },
   "outputs": [],
   "source": [
    "data_ave_a = []\n",
    "data_ave_b = []\n",
    "data_unc_a = []\n",
    "data_unc_b = []\n",
    "merge_times_a = []\n",
    "merge_times_b = []\n",
    "\n",
    "for i in range(nsum_data_a):\n",
    "    #Calculate the mean and standard deviation\n",
    "\tidata = Val25a[i*n_merge:(i+1)*n_merge]\n",
    "\tidata_array = np.asarray(idata) #Convert 'idata' to a numpy array\n",
    "\taqmean = np.mean(idata_array)\n",
    "\taqsigma = np.sqrt(np.var(idata_array))\n",
    "\tdata_ave_a.append(aqmean)\n",
    "\tdata_unc_a.append(aqsigma)\n",
    "\titimes = timesa[i*n_merge:(i+1)*n_merge]\n",
    "\titime = itimes[int(len(itimes)/2)]\n",
    "\tmerge_times_a.append(itime)\n",
    "\n",
    "for i in range(nsum_data_b):\n",
    "    #Calculate the mean and standard deviation\n",
    "\tidata = Val25b[i*n_merge:(i+1)*n_merge]\n",
    "\tidata_array = np.asarray(idata)\n",
    "\taqmean = np.mean(idata_array)\n",
    "\taqsigma = np.sqrt(np.var(idata_array))\n",
    "\tdata_ave_b.append(aqmean)\n",
    "\tdata_unc_b.append(aqsigma)\n",
    "\titimes = timesb[i*n_merge:(i+1)*n_merge]\n",
    "\titime = itimes[int(len(itimes)/2)]\n",
    "\tmerge_times_b.append(itime)"
   ]
  },
  {
   "cell_type": "code",
   "execution_count": null,
   "metadata": {},
   "outputs": [],
   "source": [
    "fig = plt.figure() \n",
    "\n",
    "#Plotting the first graph, each data set on two separate lines\n",
    "plt.figure(1)\n",
    "plt.plot(merge_times_a, data_ave_a, \"b.\", label='File 1')\n",
    "plt.plot(merge_times_b, data_ave_b, \"g.\", label = 'File 2')\n",
    "plt.legend(loc=\"best\")\n",
    "plt.xlabel(\"Time\")\n",
    "plt.ylabel(\"Particle Concentration 2.5\")\n",
    "file_title = \"Air Quality Test Results\"\n",
    "plt.title(file_title)\n",
    "fig.autofmt_xdate()"
   ]
  },
  {
   "cell_type": "code",
   "execution_count": null,
   "metadata": {},
   "outputs": [],
   "source": [
    "#Calculate the correlation coefficient of the data from the two sensors\n",
    "data_arrayA = np.asarray(data_ave_a)\n",
    "data_arrayB = np.asarray(data_ave_b)\n",
    "index = [0, len(data_arrayB) - 1, len(data_arrayB - 2), len(data_arrayB) - 3, len(data_arrayB) - 4]\n",
    "data_arrayB = np.delete(data_arrayB, index) #If the data is off by a few data points, delete the extra points from the array\n",
    "\n",
    "corr_coeff = correlation_coefficient(data_arrayA, data_arrayB)\n",
    "corr_statemnt = ('Correlation coefficient = ', corr_coeff)"
   ]
  },
  {
   "cell_type": "code",
   "execution_count": null,
   "metadata": {
    "collapsed": true
   },
   "outputs": [],
   "source": [
    "#Graph the correlation between the sensors\n",
    "plt.figure(2)\n",
    "plt.plot(data_arrayA, data_arrayB, \"b.\")\n",
    "plt.xlabel(\"Sensor 1\")\n",
    "plt.ylabel(\"Sensor 2\")\n",
    "file_title2 = \"AQ Sensor Correlation\"\n",
    "plt.title(file_title2)\n",
    "\n",
    "#Print correlation coefficient\n",
    "print(corr_statemnt)\n",
    "\n",
    "plt.show()"
   ]
  }
 ],
 "metadata": {
  "kernelspec": {
   "display_name": "Python 3",
   "language": "python",
   "name": "python3"
  },
  "language_info": {
   "codemirror_mode": {
    "name": "ipython",
    "version": 3
   },
   "file_extension": ".py",
   "mimetype": "text/x-python",
   "name": "python",
   "nbconvert_exporter": "python",
   "pygments_lexer": "ipython3",
   "version": "3.6.1"
  }
 },
 "nbformat": 4,
 "nbformat_minor": 2
}
